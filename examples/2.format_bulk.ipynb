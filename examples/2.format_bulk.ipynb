{
 "cells": [
  {
   "cell_type": "markdown",
   "metadata": {},
   "source": [
    "# This notebook formats bulk RNA-seq dataset"
   ]
  },
  {
   "cell_type": "code",
   "execution_count": 1,
   "metadata": {},
   "outputs": [],
   "source": [
    "import gc\n",
    "import sys\n",
    "import pathlib\n",
    "import gzip\n",
    "import subprocess\n",
    "import pickle\n",
    "\n",
    "import pandas as pd\n",
    "import numpy as np\n",
    "import scanpy as sc\n",
    "import anndata as ad\n",
    "from sklearn.model_selection import train_test_split"
   ]
  },
  {
   "cell_type": "markdown",
   "metadata": {},
   "source": [
    "## Preprocessing Parameters"
   ]
  },
  {
   "cell_type": "code",
   "execution_count": 2,
   "metadata": {},
   "outputs": [],
   "source": [
    "SAMPLE_ID_COL = 'sample_id'\n",
    "SAMPLE_COL_SOURCE = 'source name'\n",
    "STIM_COL = 'stim'\n",
    "STIM_COL_SOURCE = 'characteristics: sex'\n",
    "def get_stim_id(in_str):\n",
    "    out_str = \"female\"\n",
    "    if in_str == \"m\":\n",
    "        out_str = \"male\"\n",
    "           \n",
    "    return(out_str)\n",
    "\n",
    "GENE_ID_COL = 'gene_ids'\n",
    "\n",
    "DATASPLIT_SEED = 42"
   ]
  },
  {
   "cell_type": "markdown",
   "metadata": {},
   "source": [
    "## Retrieve Path to Processed Bulk RNA-seq Data and relevant Metadata"
   ]
  },
  {
   "cell_type": "code",
   "execution_count": 4,
   "metadata": {},
   "outputs": [],
   "source": [
    "## Input data path\n",
    "DATA_PATH = pathlib.Path('.').absolute() / 'example_data'\n",
    "assert DATA_PATH.exists()\n",
    "BULK_DATA_FILE = DATA_PATH / 'bulk_data' / 'GSE132040_190214.csv.gz'\n",
    "assert BULK_DATA_FILE.exists()\n",
    "BULK_METADATA_FILE = DATA_PATH / 'bulk_data' / 'GSE132040_MACA_Bulk_metadata.csv'\n",
    "assert BULK_METADATA_FILE.exists()\n",
    "\n",
    "## Output path\n",
    "PREPROCESS_OUTPUT_PATH = pathlib.Path('.').absolute() / 'example_data' / 'preprocessed_data'\n",
    "assert PREPROCESS_OUTPUT_PATH.exists(), 'Please create the output directory \"preprocessed_data\" first'\n",
    "PREPROCESS_BULK_FORMAT_PATH = PREPROCESS_OUTPUT_PATH / 'bulk_formatted'\n",
    "PREPROCESS_BULK_FORMAT_PATH.mkdir(parents=True, exist_ok=True)\n",
    "PREPROCESS_BULK_FORMAT_FILE = PREPROCESS_BULK_FORMAT_PATH / 'GSE132040_190214_bulk_formatted.h5ad'\n",
    "PREPROCESS_BULK_FORMAT_GENE_FILE = PREPROCESS_BULK_FORMAT_PATH / 'GSE132040_190214_bulk_genes.pkl'"
   ]
  },
  {
   "cell_type": "markdown",
   "metadata": {},
   "source": [
    "## Preprocessing of Bulk Data\n",
    "### Assemble csv expression and csv metadata to an adata object "
   ]
  },
  {
   "cell_type": "code",
   "execution_count": 5,
   "metadata": {},
   "outputs": [
    {
     "data": {
      "text/plain": [
       "21"
      ]
     },
     "execution_count": 5,
     "metadata": {},
     "output_type": "execute_result"
    }
   ],
   "source": [
    "# Load the metadata file\n",
    "metadata = pd.read_csv(BULK_METADATA_FILE, index_col=0)\n",
    "metadata.index = metadata.index.astype(str) + '.gencode.vM19'\n",
    "\n",
    "# Load the bulk data file as an AnnData object\n",
    "with gzip.open(BULK_DATA_FILE, 'rt') as f:\n",
    "    X = pd.read_csv(f, index_col=0)\n",
    "    X = X.T\n",
    "    metadata = metadata.loc[X.index] # order\n",
    "\n",
    "# Assemble anndata object\n",
    "adata = ad.AnnData(X, obs=metadata)\n",
    "\n",
    "del X\n",
    "del metadata\n",
    "gc.collect()"
   ]
  },
  {
   "cell_type": "markdown",
   "metadata": {},
   "source": [
    "### Format metadata"
   ]
  },
  {
   "cell_type": "code",
   "execution_count": 6,
   "metadata": {},
   "outputs": [
    {
     "name": "stderr",
     "output_type": "stream",
     "text": [
      "/tmp/ipykernel_1402500/2698757859.py:6: ImplicitModificationWarning: Trying to modify attribute `.obs` of view, initializing view as actual.\n",
      "  adata.obs[\"tissue\"] = [x.split(\"_\")[0] for x in adata.obs[\"source name\"]]\n"
     ]
    }
   ],
   "source": [
    "# remove non-gene IDs\n",
    "gene_idx = np.where(np.logical_not(adata.var_names.str.startswith('__')))[0]\n",
    "adata = adata[:, gene_idx]\n",
    "\n",
    "# format the tissue \n",
    "adata.obs[\"tissue\"] = [x.split(\"_\")[0] for x in adata.obs[\"source name\"]]\n",
    "\n",
    "# subset to post-pubescent liver\n",
    "adata = adata[np.where(adata.obs[\"tissue\"] == \"Liver\")]\n",
    "adata = adata[np.where(adata.obs[\"characteristics: age\"] != \"1\")]"
   ]
  },
  {
   "cell_type": "code",
   "execution_count": 7,
   "metadata": {},
   "outputs": [
    {
     "data": {
      "application/vnd.microsoft.datawrangler.viewer.v0+json": {
       "columns": [
        {
         "name": "index",
         "rawType": "object",
         "type": "string"
        },
        {
         "name": "title",
         "rawType": "object",
         "type": "string"
        },
        {
         "name": "source name",
         "rawType": "object",
         "type": "string"
        },
        {
         "name": "organism",
         "rawType": "object",
         "type": "string"
        },
        {
         "name": "characteristics: age",
         "rawType": "object",
         "type": "string"
        },
        {
         "name": "characteristics: developmental stage",
         "rawType": "object",
         "type": "string"
        },
        {
         "name": "characteristics: sex",
         "rawType": "object",
         "type": "string"
        },
        {
         "name": "molecule",
         "rawType": "object",
         "type": "string"
        },
        {
         "name": "description",
         "rawType": "float64",
         "type": "float"
        },
        {
         "name": "processed data file ",
         "rawType": "object",
         "type": "string"
        },
        {
         "name": "raw file",
         "rawType": "object",
         "type": "string"
        },
        {
         "name": "BioSample",
         "rawType": "object",
         "type": "string"
        },
        {
         "name": "Instrument Model",
         "rawType": "object",
         "type": "string"
        },
        {
         "name": "tissue",
         "rawType": "object",
         "type": "string"
        }
       ],
       "conversionMethod": "pd.DataFrame",
       "ref": "3f0d78c7-1274-4503-962d-57f17ba26e42",
       "rows": [
        [
         "A12_384Bulk_Plate2_S12.gencode.vM19",
         "Tabula Muris Senis (bulk RNA seq)",
         "Liver_56",
         "Mus musculus C57/BL6",
         "6",
         "months postnatal",
         "m",
         "total RNA",
         null,
         "190214_A00111_0269_AHH3J3DSXX__190214_A00111_0270_BHHMFWDSXX",
         "SRR9126831",
         "SAMN11854575",
         "Illumina NovaSeq 6000",
         "Liver"
        ],
        [
         "A21_384Bulk_Plate2_S21.gencode.vM19",
         "Tabula Muris Senis (bulk RNA seq)",
         "Liver_46",
         "Mus musculus C57/BL6",
         "6",
         "months postnatal",
         "m",
         "total RNA",
         null,
         "190214_A00111_0269_AHH3J3DSXX__190214_A00111_0270_BHHMFWDSXX",
         "SRR9127503",
         "SAMN11854599",
         "Illumina NovaSeq 6000",
         "Liver"
        ],
        [
         "A6_384Bulk_Plate1_S6.gencode.vM19",
         "Tabula Muris Senis (bulk RNA seq)",
         "Liver_8",
         "Mus musculus C57/BL6",
         "3",
         "months postnatal",
         "f",
         "total RNA",
         null,
         "190214_A00111_0269_AHH3J3DSXX__190214_A00111_0270_BHHMFWDSXX",
         "SRR9127256",
         "SAMN11854613",
         "Illumina NovaSeq 6000",
         "Liver"
        ],
        [
         "A7_384Bulk_Plate3_S7.gencode.vM19",
         "Tabula Muris Senis (bulk RNA seq)",
         "Liver_14",
         "Mus musculus C57/BL6",
         "3",
         "months postnatal",
         "m",
         "total RNA",
         null,
         "190214_A00111_0269_AHH3J3DSXX__190214_A00111_0270_BHHMFWDSXX",
         "SRR9127050",
         "SAMN11854618",
         "Illumina NovaSeq 6000",
         "Liver"
        ],
        [
         "A8_384Bulk_Plate2_S8.gencode.vM19",
         "Tabula Muris Senis (bulk RNA seq)",
         "Liver_9",
         "Mus musculus C57/BL6",
         "15",
         "months postnatal",
         "f",
         "total RNA",
         null,
         "190214_A00111_0269_AHH3J3DSXX__190214_A00111_0270_BHHMFWDSXX",
         "SRR9127056",
         "SAMN11854620",
         "Illumina NovaSeq 6000",
         "Liver"
        ]
       ],
       "shape": {
        "columns": 13,
        "rows": 5
       }
      },
      "text/html": [
       "<div>\n",
       "<style scoped>\n",
       "    .dataframe tbody tr th:only-of-type {\n",
       "        vertical-align: middle;\n",
       "    }\n",
       "\n",
       "    .dataframe tbody tr th {\n",
       "        vertical-align: top;\n",
       "    }\n",
       "\n",
       "    .dataframe thead th {\n",
       "        text-align: right;\n",
       "    }\n",
       "</style>\n",
       "<table border=\"1\" class=\"dataframe\">\n",
       "  <thead>\n",
       "    <tr style=\"text-align: right;\">\n",
       "      <th></th>\n",
       "      <th>title</th>\n",
       "      <th>source name</th>\n",
       "      <th>organism</th>\n",
       "      <th>characteristics: age</th>\n",
       "      <th>characteristics: developmental stage</th>\n",
       "      <th>characteristics: sex</th>\n",
       "      <th>molecule</th>\n",
       "      <th>description</th>\n",
       "      <th>processed data file</th>\n",
       "      <th>raw file</th>\n",
       "      <th>BioSample</th>\n",
       "      <th>Instrument Model</th>\n",
       "      <th>tissue</th>\n",
       "    </tr>\n",
       "  </thead>\n",
       "  <tbody>\n",
       "    <tr>\n",
       "      <th>A12_384Bulk_Plate2_S12.gencode.vM19</th>\n",
       "      <td>Tabula Muris Senis (bulk RNA seq)</td>\n",
       "      <td>Liver_56</td>\n",
       "      <td>Mus musculus C57/BL6</td>\n",
       "      <td>6</td>\n",
       "      <td>months postnatal</td>\n",
       "      <td>m</td>\n",
       "      <td>total RNA</td>\n",
       "      <td>NaN</td>\n",
       "      <td>190214_A00111_0269_AHH3J3DSXX__190214_A00111_0...</td>\n",
       "      <td>SRR9126831</td>\n",
       "      <td>SAMN11854575</td>\n",
       "      <td>Illumina NovaSeq 6000</td>\n",
       "      <td>Liver</td>\n",
       "    </tr>\n",
       "    <tr>\n",
       "      <th>A21_384Bulk_Plate2_S21.gencode.vM19</th>\n",
       "      <td>Tabula Muris Senis (bulk RNA seq)</td>\n",
       "      <td>Liver_46</td>\n",
       "      <td>Mus musculus C57/BL6</td>\n",
       "      <td>6</td>\n",
       "      <td>months postnatal</td>\n",
       "      <td>m</td>\n",
       "      <td>total RNA</td>\n",
       "      <td>NaN</td>\n",
       "      <td>190214_A00111_0269_AHH3J3DSXX__190214_A00111_0...</td>\n",
       "      <td>SRR9127503</td>\n",
       "      <td>SAMN11854599</td>\n",
       "      <td>Illumina NovaSeq 6000</td>\n",
       "      <td>Liver</td>\n",
       "    </tr>\n",
       "    <tr>\n",
       "      <th>A6_384Bulk_Plate1_S6.gencode.vM19</th>\n",
       "      <td>Tabula Muris Senis (bulk RNA seq)</td>\n",
       "      <td>Liver_8</td>\n",
       "      <td>Mus musculus C57/BL6</td>\n",
       "      <td>3</td>\n",
       "      <td>months postnatal</td>\n",
       "      <td>f</td>\n",
       "      <td>total RNA</td>\n",
       "      <td>NaN</td>\n",
       "      <td>190214_A00111_0269_AHH3J3DSXX__190214_A00111_0...</td>\n",
       "      <td>SRR9127256</td>\n",
       "      <td>SAMN11854613</td>\n",
       "      <td>Illumina NovaSeq 6000</td>\n",
       "      <td>Liver</td>\n",
       "    </tr>\n",
       "    <tr>\n",
       "      <th>A7_384Bulk_Plate3_S7.gencode.vM19</th>\n",
       "      <td>Tabula Muris Senis (bulk RNA seq)</td>\n",
       "      <td>Liver_14</td>\n",
       "      <td>Mus musculus C57/BL6</td>\n",
       "      <td>3</td>\n",
       "      <td>months postnatal</td>\n",
       "      <td>m</td>\n",
       "      <td>total RNA</td>\n",
       "      <td>NaN</td>\n",
       "      <td>190214_A00111_0269_AHH3J3DSXX__190214_A00111_0...</td>\n",
       "      <td>SRR9127050</td>\n",
       "      <td>SAMN11854618</td>\n",
       "      <td>Illumina NovaSeq 6000</td>\n",
       "      <td>Liver</td>\n",
       "    </tr>\n",
       "    <tr>\n",
       "      <th>A8_384Bulk_Plate2_S8.gencode.vM19</th>\n",
       "      <td>Tabula Muris Senis (bulk RNA seq)</td>\n",
       "      <td>Liver_9</td>\n",
       "      <td>Mus musculus C57/BL6</td>\n",
       "      <td>15</td>\n",
       "      <td>months postnatal</td>\n",
       "      <td>f</td>\n",
       "      <td>total RNA</td>\n",
       "      <td>NaN</td>\n",
       "      <td>190214_A00111_0269_AHH3J3DSXX__190214_A00111_0...</td>\n",
       "      <td>SRR9127056</td>\n",
       "      <td>SAMN11854620</td>\n",
       "      <td>Illumina NovaSeq 6000</td>\n",
       "      <td>Liver</td>\n",
       "    </tr>\n",
       "  </tbody>\n",
       "</table>\n",
       "</div>"
      ],
      "text/plain": [
       "                                                                 title  \\\n",
       "A12_384Bulk_Plate2_S12.gencode.vM19  Tabula Muris Senis (bulk RNA seq)   \n",
       "A21_384Bulk_Plate2_S21.gencode.vM19  Tabula Muris Senis (bulk RNA seq)   \n",
       "A6_384Bulk_Plate1_S6.gencode.vM19    Tabula Muris Senis (bulk RNA seq)   \n",
       "A7_384Bulk_Plate3_S7.gencode.vM19    Tabula Muris Senis (bulk RNA seq)   \n",
       "A8_384Bulk_Plate2_S8.gencode.vM19    Tabula Muris Senis (bulk RNA seq)   \n",
       "\n",
       "                                    source name              organism  \\\n",
       "A12_384Bulk_Plate2_S12.gencode.vM19    Liver_56  Mus musculus C57/BL6   \n",
       "A21_384Bulk_Plate2_S21.gencode.vM19    Liver_46  Mus musculus C57/BL6   \n",
       "A6_384Bulk_Plate1_S6.gencode.vM19       Liver_8  Mus musculus C57/BL6   \n",
       "A7_384Bulk_Plate3_S7.gencode.vM19      Liver_14  Mus musculus C57/BL6   \n",
       "A8_384Bulk_Plate2_S8.gencode.vM19       Liver_9  Mus musculus C57/BL6   \n",
       "\n",
       "                                    characteristics: age  \\\n",
       "A12_384Bulk_Plate2_S12.gencode.vM19                    6   \n",
       "A21_384Bulk_Plate2_S21.gencode.vM19                    6   \n",
       "A6_384Bulk_Plate1_S6.gencode.vM19                      3   \n",
       "A7_384Bulk_Plate3_S7.gencode.vM19                      3   \n",
       "A8_384Bulk_Plate2_S8.gencode.vM19                     15   \n",
       "\n",
       "                                    characteristics: developmental stage  \\\n",
       "A12_384Bulk_Plate2_S12.gencode.vM19                     months postnatal   \n",
       "A21_384Bulk_Plate2_S21.gencode.vM19                     months postnatal   \n",
       "A6_384Bulk_Plate1_S6.gencode.vM19                       months postnatal   \n",
       "A7_384Bulk_Plate3_S7.gencode.vM19                       months postnatal   \n",
       "A8_384Bulk_Plate2_S8.gencode.vM19                       months postnatal   \n",
       "\n",
       "                                    characteristics: sex   molecule  \\\n",
       "A12_384Bulk_Plate2_S12.gencode.vM19                    m  total RNA   \n",
       "A21_384Bulk_Plate2_S21.gencode.vM19                    m  total RNA   \n",
       "A6_384Bulk_Plate1_S6.gencode.vM19                      f  total RNA   \n",
       "A7_384Bulk_Plate3_S7.gencode.vM19                      m  total RNA   \n",
       "A8_384Bulk_Plate2_S8.gencode.vM19                      f  total RNA   \n",
       "\n",
       "                                     description  \\\n",
       "A12_384Bulk_Plate2_S12.gencode.vM19          NaN   \n",
       "A21_384Bulk_Plate2_S21.gencode.vM19          NaN   \n",
       "A6_384Bulk_Plate1_S6.gencode.vM19            NaN   \n",
       "A7_384Bulk_Plate3_S7.gencode.vM19            NaN   \n",
       "A8_384Bulk_Plate2_S8.gencode.vM19            NaN   \n",
       "\n",
       "                                                                  processed data file   \\\n",
       "A12_384Bulk_Plate2_S12.gencode.vM19  190214_A00111_0269_AHH3J3DSXX__190214_A00111_0...   \n",
       "A21_384Bulk_Plate2_S21.gencode.vM19  190214_A00111_0269_AHH3J3DSXX__190214_A00111_0...   \n",
       "A6_384Bulk_Plate1_S6.gencode.vM19    190214_A00111_0269_AHH3J3DSXX__190214_A00111_0...   \n",
       "A7_384Bulk_Plate3_S7.gencode.vM19    190214_A00111_0269_AHH3J3DSXX__190214_A00111_0...   \n",
       "A8_384Bulk_Plate2_S8.gencode.vM19    190214_A00111_0269_AHH3J3DSXX__190214_A00111_0...   \n",
       "\n",
       "                                       raw file     BioSample  \\\n",
       "A12_384Bulk_Plate2_S12.gencode.vM19  SRR9126831  SAMN11854575   \n",
       "A21_384Bulk_Plate2_S21.gencode.vM19  SRR9127503  SAMN11854599   \n",
       "A6_384Bulk_Plate1_S6.gencode.vM19    SRR9127256  SAMN11854613   \n",
       "A7_384Bulk_Plate3_S7.gencode.vM19    SRR9127050  SAMN11854618   \n",
       "A8_384Bulk_Plate2_S8.gencode.vM19    SRR9127056  SAMN11854620   \n",
       "\n",
       "                                          Instrument Model tissue  \n",
       "A12_384Bulk_Plate2_S12.gencode.vM19  Illumina NovaSeq 6000  Liver  \n",
       "A21_384Bulk_Plate2_S21.gencode.vM19  Illumina NovaSeq 6000  Liver  \n",
       "A6_384Bulk_Plate1_S6.gencode.vM19    Illumina NovaSeq 6000  Liver  \n",
       "A7_384Bulk_Plate3_S7.gencode.vM19    Illumina NovaSeq 6000  Liver  \n",
       "A8_384Bulk_Plate2_S8.gencode.vM19    Illumina NovaSeq 6000  Liver  "
      ]
     },
     "execution_count": 7,
     "metadata": {},
     "output_type": "execute_result"
    }
   ],
   "source": [
    "adata.obs.head()"
   ]
  },
  {
   "cell_type": "markdown",
   "metadata": {},
   "source": [
    "### format for BuDDI and write"
   ]
  },
  {
   "cell_type": "code",
   "execution_count": 8,
   "metadata": {},
   "outputs": [
    {
     "name": "stderr",
     "output_type": "stream",
     "text": [
      "/tmp/ipykernel_1402500/2142316600.py:1: ImplicitModificationWarning: Trying to modify attribute `.obs` of view, initializing view as actual.\n",
      "  adata.obs[SAMPLE_ID_COL] = adata.obs[SAMPLE_COL_SOURCE]\n"
     ]
    }
   ],
   "source": [
    "adata.obs[SAMPLE_ID_COL] = adata.obs[SAMPLE_COL_SOURCE]\n",
    "\n",
    "\n",
    "\n",
    "adata.obs[STIM_COL] = [get_stim_id(str(x)) for x in adata.obs[STIM_COL_SOURCE].tolist()]\n",
    "adata.var[GENE_ID_COL] = adata.var.index.tolist()\n",
    "\n",
    "del adata.raw\n",
    "adata.write(PREPROCESS_BULK_FORMAT_FILE)\n",
    "\n",
    "pickle.dump(adata.var[GENE_ID_COL], open(PREPROCESS_BULK_FORMAT_GENE_FILE, \"wb\"))"
   ]
  }
 ],
 "metadata": {
  "kernelspec": {
   "display_name": "buddi_conda",
   "language": "python",
   "name": "python3"
  },
  "language_info": {
   "codemirror_mode": {
    "name": "ipython",
    "version": 3
   },
   "file_extension": ".py",
   "mimetype": "text/x-python",
   "name": "python",
   "nbconvert_exporter": "python",
   "pygments_lexer": "ipython3",
   "version": "3.9.21"
  }
 },
 "nbformat": 4,
 "nbformat_minor": 2
}
