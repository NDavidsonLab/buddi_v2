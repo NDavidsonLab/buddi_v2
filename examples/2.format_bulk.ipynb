{
 "cells": [
  {
   "cell_type": "markdown",
   "metadata": {},
   "source": [
    "# This notebook formats bulk RNA-seq dataset"
   ]
  },
  {
   "cell_type": "code",
   "execution_count": 1,
   "metadata": {},
   "outputs": [],
   "source": [
    "import gc\n",
    "import sys\n",
    "import pathlib\n",
    "import gzip\n",
    "import subprocess\n",
    "import pickle\n",
    "\n",
    "import pandas as pd\n",
    "import numpy as np\n",
    "import scanpy as sc\n",
    "import anndata as ad\n",
    "from sklearn.model_selection import train_test_split"
   ]
  },
  {
   "cell_type": "markdown",
   "metadata": {},
   "source": [
    "## Preprocessing Parameters"
   ]
  },
  {
   "cell_type": "code",
   "execution_count": 2,
   "metadata": {},
   "outputs": [],
   "source": [
    "SAMPLE_ID_COL = 'sample_id'\n",
    "SAMPLE_COL_SOURCE = 'source name'\n",
    "STIM_COL = 'stim'\n",
    "STIM_COL_SOURCE = 'characteristics: sex'\n",
    "def get_stim_id(in_str):\n",
    "    out_str = \"female\"\n",
    "    if in_str == \"m\":\n",
    "        out_str = \"male\"\n",
    "           \n",
    "    return(out_str)\n",
    "\n",
    "GENE_ID_COL = 'gene_ids'\n",
    "\n",
    "DATASPLIT_SEED = 42"
   ]
  },
  {
   "cell_type": "markdown",
   "metadata": {},
   "source": [
    "## Retrieve Path to Processed Bulk RNA-seq Data and relevant Metadata"
   ]
  },
  {
   "cell_type": "code",
   "execution_count": 3,
   "metadata": {},
   "outputs": [],
   "source": [
    "## Input data path\n",
    "DATA_PATH = pathlib.Path('.').absolute() / 'example_data'\n",
    "assert DATA_PATH.exists()\n",
    "BULK_DATA_FILE = DATA_PATH / 'bulk_data' / 'GSE132040_190214.csv.gz'\n",
    "assert BULK_DATA_FILE.exists()\n",
    "BULK_METADATA_FILE = DATA_PATH / 'bulk_data' / 'GSE132040_MACA_Bulk_metadata.csv'\n",
    "assert BULK_METADATA_FILE.exists()\n",
    "\n",
    "## Output path\n",
    "PREPROCESS_OUTPUT_PATH = pathlib.Path('.').absolute() / 'example_data' / 'preprocessed_data'\n",
    "assert PREPROCESS_OUTPUT_PATH.exists(), 'Please create the output directory \"preprocessed_data\" first'\n",
    "PREPROCESS_BULK_FORMAT_PATH = PREPROCESS_OUTPUT_PATH / 'bulk_formatted'\n",
    "PREPROCESS_BULK_FORMAT_PATH.mkdir(parents=True, exist_ok=True)\n",
    "PREPROCESS_BULK_FORMAT_FILE = PREPROCESS_BULK_FORMAT_PATH / 'GSE132040_190214_bulk_formatted.h5ad'\n",
    "PREPROCESS_BULK_FORMAT_GENE_FILE = PREPROCESS_BULK_FORMAT_PATH / 'GSE132040_190214_bulk_genes.pkl'"
   ]
  },
  {
   "cell_type": "markdown",
   "metadata": {},
   "source": [
    "## Preprocessing of Bulk Data\n",
    "### Assemble csv expression and csv metadata to an adata object "
   ]
  },
  {
   "cell_type": "code",
   "execution_count": 4,
   "metadata": {},
   "outputs": [
    {
     "data": {
      "text/plain": [
       "10"
      ]
     },
     "execution_count": 4,
     "metadata": {},
     "output_type": "execute_result"
    }
   ],
   "source": [
    "# Load the metadata file\n",
    "metadata = pd.read_csv(BULK_METADATA_FILE, index_col=0)\n",
    "metadata.index = metadata.index.astype(str) + '.gencode.vM19'\n",
    "\n",
    "# Load the bulk data file as an AnnData object\n",
    "with gzip.open(BULK_DATA_FILE, 'rt') as f:\n",
    "    X = pd.read_csv(f, index_col=0)\n",
    "    X = X.T\n",
    "    metadata = metadata.loc[X.index] # order\n",
    "\n",
    "# Assemble anndata object\n",
    "adata = ad.AnnData(X, obs=metadata)\n",
    "\n",
    "del X\n",
    "del metadata\n",
    "gc.collect()"
   ]
  },
  {
   "cell_type": "markdown",
   "metadata": {},
   "source": [
    "### Format metadata"
   ]
  },
  {
   "cell_type": "code",
   "execution_count": 5,
   "metadata": {},
   "outputs": [
    {
     "name": "stderr",
     "output_type": "stream",
     "text": [
      "/tmp/ipykernel_13014/2698757859.py:6: ImplicitModificationWarning: Trying to modify attribute `.obs` of view, initializing view as actual.\n",
      "  adata.obs[\"tissue\"] = [x.split(\"_\")[0] for x in adata.obs[\"source name\"]]\n"
     ]
    }
   ],
   "source": [
    "# remove non-gene IDs\n",
    "gene_idx = np.where(np.logical_not(adata.var_names.str.startswith('__')))[0]\n",
    "adata = adata[:, gene_idx]\n",
    "\n",
    "# format the tissue \n",
    "adata.obs[\"tissue\"] = [x.split(\"_\")[0] for x in adata.obs[\"source name\"]]\n",
    "\n",
    "# subset to post-pubescent liver\n",
    "adata = adata[np.where(adata.obs[\"tissue\"] == \"Liver\")]\n",
    "adata = adata[np.where(adata.obs[\"characteristics: age\"] != \"1\")]"
   ]
  },
  {
   "cell_type": "markdown",
   "metadata": {},
   "source": [
    "### format for BuDDI and write"
   ]
  },
  {
   "cell_type": "code",
   "execution_count": 8,
   "metadata": {},
   "outputs": [
    {
     "name": "stderr",
     "output_type": "stream",
     "text": [
      "/tmp/ipykernel_13014/3597251351.py:1: ImplicitModificationWarning: Trying to modify attribute `.obs` of view, initializing view as actual.\n",
      "  adata.obs[SAMPLE_ID_COL] = adata.obs[SAMPLE_COL_SOURCE]\n"
     ]
    }
   ],
   "source": [
    "adata.obs[SAMPLE_ID_COL] = adata.obs[SAMPLE_COL_SOURCE]\n",
    "adata.obs[STIM_COL] = [get_stim_id(str(x)) for x in adata.obs[STIM_COL_SOURCE].tolist()]\n",
    "adata.var[GENE_ID_COL] = adata.var.index.tolist()"
   ]
  },
  {
   "cell_type": "markdown",
   "metadata": {},
   "source": [
    "### Sample vs Stim Contingency Table"
   ]
  },
  {
   "cell_type": "code",
   "execution_count": 9,
   "metadata": {},
   "outputs": [
    {
     "name": "stdout",
     "output_type": "stream",
     "text": [
      "stim       female  male\n",
      "sample_id              \n",
      "Liver_1         1     0\n",
      "Liver_10        0     1\n",
      "Liver_11        0     1\n",
      "Liver_12        0     1\n",
      "Liver_13        0     1\n",
      "Liver_14        0     1\n",
      "Liver_16        0     1\n",
      "Liver_17        0     1\n",
      "Liver_18        0     1\n",
      "Liver_19        0     1\n",
      "Liver_2         1     0\n",
      "Liver_20        0     1\n",
      "Liver_21        1     0\n",
      "Liver_22        0     1\n",
      "Liver_23        0     1\n",
      "Liver_24        1     0\n",
      "Liver_25        0     1\n",
      "Liver_26        0     1\n",
      "Liver_27        1     0\n",
      "Liver_28        0     1\n",
      "Liver_29        1     0\n",
      "Liver_3         0     1\n",
      "Liver_31        1     0\n",
      "Liver_32        0     1\n",
      "Liver_33        1     0\n",
      "Liver_34        0     1\n",
      "Liver_35        0     1\n",
      "Liver_36        0     1\n",
      "Liver_38        0     1\n",
      "Liver_39        0     1\n",
      "Liver_4         1     0\n",
      "Liver_40        0     1\n",
      "Liver_42        0     1\n",
      "Liver_43        0     1\n",
      "Liver_44        0     1\n",
      "Liver_45        0     1\n",
      "Liver_46        0     1\n",
      "Liver_47        1     0\n",
      "Liver_48        1     0\n",
      "Liver_49        0     1\n",
      "Liver_5         0     1\n",
      "Liver_50        0     1\n",
      "Liver_52        0     1\n",
      "Liver_53        0     1\n",
      "Liver_56        0     1\n",
      "Liver_6         1     0\n",
      "Liver_7         0     1\n",
      "Liver_8         1     0\n",
      "Liver_9         1     0\n"
     ]
    }
   ],
   "source": [
    "ct = pd.crosstab(adata.obs[SAMPLE_ID_COL], adata.obs[STIM_COL])\n",
    "with pd.option_context(\n",
    "    'display.max_rows', None,\n",
    "    'display.max_columns', None,\n",
    "    'display.width', None,\n",
    "    'display.max_colwidth', None\n",
    "):\n",
    "    print(ct)"
   ]
  },
  {
   "cell_type": "code",
   "execution_count": null,
   "metadata": {},
   "outputs": [
    {
     "name": "stderr",
     "output_type": "stream",
     "text": [
      "/tmp/ipykernel_1402500/2142316600.py:1: ImplicitModificationWarning: Trying to modify attribute `.obs` of view, initializing view as actual.\n",
      "  adata.obs[SAMPLE_ID_COL] = adata.obs[SAMPLE_COL_SOURCE]\n"
     ]
    }
   ],
   "source": [
    "del adata.raw\n",
    "adata.write(PREPROCESS_BULK_FORMAT_FILE)\n",
    "pickle.dump(adata.var[GENE_ID_COL], open(PREPROCESS_BULK_FORMAT_GENE_FILE, \"wb\"))"
   ]
  }
 ],
 "metadata": {
  "kernelspec": {
   "display_name": "buddi_conda",
   "language": "python",
   "name": "python3"
  },
  "language_info": {
   "codemirror_mode": {
    "name": "ipython",
    "version": 3
   },
   "file_extension": ".py",
   "mimetype": "text/x-python",
   "name": "python",
   "nbconvert_exporter": "python",
   "pygments_lexer": "ipython3",
   "version": "3.9.21"
  }
 },
 "nbformat": 4,
 "nbformat_minor": 2
}
